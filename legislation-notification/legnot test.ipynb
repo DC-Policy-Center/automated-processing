{
 "cells": [
  {
   "cell_type": "code",
   "execution_count": 6,
   "metadata": {
    "collapsed": true
   },
   "outputs": [],
   "source": [
    "import pandas as pd\n",
    "import dclims"
   ]
  },
  {
   "cell_type": "code",
   "execution_count": 2,
   "metadata": {
    "collapsed": false
   },
   "outputs": [],
   "source": [
    "df = pd.read_csv('LegislationSearchResults_Mar072019_014204.csv',encoding=\"ISO-8859-1\")"
   ]
  },
  {
   "cell_type": "code",
   "execution_count": 4,
   "metadata": {
    "collapsed": false
   },
   "outputs": [
    {
     "data": {
      "text/html": [
       "<div>\n",
       "<table border=\"1\" class=\"dataframe\">\n",
       "  <thead>\n",
       "    <tr style=\"text-align: right;\">\n",
       "      <th></th>\n",
       "      <th>Legislation Number</th>\n",
       "      <th>Legislation Category</th>\n",
       "      <th>Legislation Type</th>\n",
       "      <th>Short Title</th>\n",
       "      <th>Introduction Date</th>\n",
       "      <th>Status</th>\n",
       "      <th>Act/Res Number</th>\n",
       "      <th>Law Number</th>\n",
       "      <th>Comittee Referral</th>\n",
       "      <th>Introduced By</th>\n",
       "      <th>Co-Sponsor(s)</th>\n",
       "    </tr>\n",
       "  </thead>\n",
       "  <tbody>\n",
       "    <tr>\n",
       "      <th>0</th>\n",
       "      <td>B23-0187</td>\n",
       "      <td>Bill</td>\n",
       "      <td>Permanent Bill</td>\n",
       "      <td>Community Health Investment Act of 2019</td>\n",
       "      <td>Mar 5, 2019</td>\n",
       "      <td>New</td>\n",
       "      <td></td>\n",
       "      <td></td>\n",
       "      <td>Committee on Health</td>\n",
       "      <td>Chairman Mendelson at the request of the Mayor</td>\n",
       "      <td></td>\n",
       "    </tr>\n",
       "    <tr>\n",
       "      <th>1</th>\n",
       "      <td>B23-0178</td>\n",
       "      <td>Bill</td>\n",
       "      <td>Permanent Bill</td>\n",
       "      <td>Interagency Council on Behavioral Health Estab...</td>\n",
       "      <td>Mar 5, 2019</td>\n",
       "      <td>New</td>\n",
       "      <td></td>\n",
       "      <td></td>\n",
       "      <td>Committee on Health</td>\n",
       "      <td>Councilmembers Grosso, Silverman, Nadeau, McDu...</td>\n",
       "      <td>Councilmembers Gray and Allen</td>\n",
       "    </tr>\n",
       "    <tr>\n",
       "      <th>2</th>\n",
       "      <td>B23-0186</td>\n",
       "      <td>Bill</td>\n",
       "      <td>Permanent Bill</td>\n",
       "      <td>Protection of Seniors and Vulnerable Adults fr...</td>\n",
       "      <td>Mar 5, 2019</td>\n",
       "      <td>New</td>\n",
       "      <td></td>\n",
       "      <td></td>\n",
       "      <td>Committee on Business and Economic Development</td>\n",
       "      <td>Chairman Mendelson at the request of the Mayor</td>\n",
       "      <td></td>\n",
       "    </tr>\n",
       "    <tr>\n",
       "      <th>3</th>\n",
       "      <td>B23-0185</td>\n",
       "      <td>Bill</td>\n",
       "      <td>Permanent Bill</td>\n",
       "      <td>Financial Services Consumer Protection Act of ...</td>\n",
       "      <td>Mar 5, 2019</td>\n",
       "      <td>New</td>\n",
       "      <td></td>\n",
       "      <td></td>\n",
       "      <td>Committee on Business and Economic Development</td>\n",
       "      <td>Chairman Mendelson at the request of the Mayor</td>\n",
       "      <td></td>\n",
       "    </tr>\n",
       "    <tr>\n",
       "      <th>4</th>\n",
       "      <td>B23-0184</td>\n",
       "      <td>Bill</td>\n",
       "      <td>Permanent Bill</td>\n",
       "      <td>Restrictions on the Use of Credit Information ...</td>\n",
       "      <td>Mar 5, 2019</td>\n",
       "      <td>New</td>\n",
       "      <td></td>\n",
       "      <td></td>\n",
       "      <td>Committee on Business and Economic Development</td>\n",
       "      <td>Chairman Mendelson at the request of the Mayor</td>\n",
       "      <td></td>\n",
       "    </tr>\n",
       "  </tbody>\n",
       "</table>\n",
       "</div>"
      ],
      "text/plain": [
       "  Legislation Number Legislation Category Legislation Type  \\\n",
       "0           B23-0187                 Bill   Permanent Bill   \n",
       "1           B23-0178                 Bill   Permanent Bill   \n",
       "2           B23-0186                 Bill   Permanent Bill   \n",
       "3           B23-0185                 Bill   Permanent Bill   \n",
       "4           B23-0184                 Bill   Permanent Bill   \n",
       "\n",
       "                                         Short Title Introduction Date Status  \\\n",
       "0            Community Health Investment Act of 2019       Mar 5, 2019    New   \n",
       "1  Interagency Council on Behavioral Health Estab...       Mar 5, 2019    New   \n",
       "2  Protection of Seniors and Vulnerable Adults fr...       Mar 5, 2019    New   \n",
       "3  Financial Services Consumer Protection Act of ...       Mar 5, 2019    New   \n",
       "4  Restrictions on the Use of Credit Information ...       Mar 5, 2019    New   \n",
       "\n",
       "  Act/Res Number Law Number                               Comittee Referral  \\\n",
       "0                                                       Committee on Health   \n",
       "1                                                       Committee on Health   \n",
       "2                            Committee on Business and Economic Development   \n",
       "3                            Committee on Business and Economic Development   \n",
       "4                            Committee on Business and Economic Development   \n",
       "\n",
       "                                       Introduced By  \\\n",
       "0     Chairman Mendelson at the request of the Mayor   \n",
       "1  Councilmembers Grosso, Silverman, Nadeau, McDu...   \n",
       "2     Chairman Mendelson at the request of the Mayor   \n",
       "3     Chairman Mendelson at the request of the Mayor   \n",
       "4     Chairman Mendelson at the request of the Mayor   \n",
       "\n",
       "                   Co-Sponsor(s)  \n",
       "0                                 \n",
       "1  Councilmembers Gray and Allen  \n",
       "2                                 \n",
       "3                                 \n",
       "4                                 "
      ]
     },
     "execution_count": 4,
     "metadata": {},
     "output_type": "execute_result"
    }
   ],
   "source": [
    "df.head()"
   ]
  },
  {
   "cell_type": "code",
   "execution_count": 5,
   "metadata": {
    "collapsed": true
   },
   "outputs": [],
   "source": [
    "leg_num_list = []\n",
    "for item in df['Legislation Number']:\n",
    "    leg_num_list.append(item)"
   ]
  },
  {
   "cell_type": "code",
   "execution_count": 6,
   "metadata": {
    "collapsed": false
   },
   "outputs": [
    {
     "data": {
      "text/plain": [
       "'B23-0187'"
      ]
     },
     "execution_count": 6,
     "metadata": {},
     "output_type": "execute_result"
    }
   ],
   "source": [
    "leg_num_list[0]"
   ]
  },
  {
   "cell_type": "code",
   "execution_count": 25,
   "metadata": {
    "collapsed": false,
    "scrolled": true
   },
   "outputs": [],
   "source": [
    "response_list = []\n",
    "\n",
    "for item in leg_num_list:\n",
    "\n",
    "    options = {\n",
    "                #api wrapper call options section\n",
    "                'verbose':False,\n",
    "                'Keyword':'{}'.format(item),\n",
    "                #api call options section\n",
    "                'offSet':'0',\n",
    "                'rowLimit':'100',\n",
    "    }\n",
    "\n",
    "    response = dclims.dclims.post.advancedSearch(**options)\n",
    "    response_list.append(response.json())"
   ]
  },
  {
   "cell_type": "code",
   "execution_count": 28,
   "metadata": {
    "collapsed": false
   },
   "outputs": [],
   "source": [
    "options = {\n",
    "            #api wrapper call options section\n",
    "            'verbose':False,\n",
    "            'Keyword':'{}'.format('B23-0211'),\n",
    "            #api call options section\n",
    "            'offSet':'0',\n",
    "            'rowLimit':'100',\n",
    "            'Introducer': \"\",\n",
    "            'CoSponsor': \"\",\n",
    "}\n",
    "\n",
    "response = dcl.post.advancedSearch(**options)"
   ]
  },
  {
   "cell_type": "markdown",
   "metadata": {
    "collapsed": false
   },
   "source": [
    "response.json()"
   ]
  },
  {
   "cell_type": "code",
   "execution_count": 13,
   "metadata": {
    "collapsed": false
   },
   "outputs": [],
   "source": [
    "from dclims import dclims as dcl"
   ]
  },
  {
   "cell_type": "code",
   "execution_count": 14,
   "metadata": {
    "collapsed": false
   },
   "outputs": [
    {
     "data": {
      "text/plain": [
       "<dclims.dclims.post at 0x4a5dfd0>"
      ]
     },
     "execution_count": 14,
     "metadata": {},
     "output_type": "execute_result"
    }
   ],
   "source": [
    "dcl.post()"
   ]
  },
  {
   "cell_type": "code",
   "execution_count": null,
   "metadata": {
    "collapsed": true
   },
   "outputs": [],
   "source": []
  }
 ],
 "metadata": {
  "anaconda-cloud": {},
  "kernelspec": {
   "display_name": "Python [default]",
   "language": "python",
   "name": "python3"
  },
  "language_info": {
   "codemirror_mode": {
    "name": "ipython",
    "version": 3
   },
   "file_extension": ".py",
   "mimetype": "text/x-python",
   "name": "python",
   "nbconvert_exporter": "python",
   "pygments_lexer": "ipython3",
   "version": "3.5.4"
  }
 },
 "nbformat": 4,
 "nbformat_minor": 2
}
