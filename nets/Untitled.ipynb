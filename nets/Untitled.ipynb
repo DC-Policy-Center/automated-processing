{
 "cells": [
  {
   "cell_type": "code",
   "execution_count": 2,
   "metadata": {
    "collapsed": false
   },
   "outputs": [],
   "source": [
    "import os.path\n",
    "import pandas as pd\n",
    "#C:\\Users\\mwatson\\Documents\\SharePoint\\The DC Policy Center - Documents\\Data\\NETS Data\\NETS Subsets\n",
    "data_folder = os.path.join(\"C:\\\\\", \"Users\",\"mwatson\",\"Documents\",\"SharePoint\",\"The DC Policy Center - Documents\",\"Data\",\"Nets Data\",\"NETS Subsets\")\n",
    "\n",
    "file_to_open = os.path.join(data_folder, \"NETS2015_general.csv\")\n",
    "\n",
    "\n",
    "df = pd.read_csv(file_to_open,encoding=\"ISO-8859-1\")"
   ]
  },
  {
   "cell_type": "code",
   "execution_count": 3,
   "metadata": {
    "collapsed": true
   },
   "outputs": [],
   "source": [
    "import requests\n",
    "import pandas as pd\n",
    "import grequests\n"
   ]
  },
  {
   "cell_type": "code",
   "execution_count": 5,
   "metadata": {
    "collapsed": false
   },
   "outputs": [],
   "source": [
    "def url_builder(lat,lon):\n",
    "    url = \"https://geo.fcc.gov/api/census/block/find?latitude={}&longitude=-{}&showall=false&format=json\".format(str(lat),str(lon)) #NEGATIVE BUILT INTO URL BUILDER FOR LONGITUDE\n",
    "    return(url)\n",
    "\n",
    "def get_batch_FIPS(ll_list):\n",
    "    rs = [grequests.get(u) for u in url_list]\n",
    "    grequests.map(rs)\n",
    "    for item in range(len(rs)):\n",
    "        fips_list.append(rs[item].response.json()['Block']['FIPS'])\n",
    "    return(fips_list)\n",
    "\n",
    "\n",
    "def get_FIPS(lat,lon):\n",
    "    fips_list = []\n",
    "    url = \"https://geo.fcc.gov/api/census/block/find?latitude={}&longitude=-{}&showall=false&format=json\".format(str(lat),str(lon)) #NEGATIVE BUILT INTO URL BUILDER FOR LONGITUDE\n",
    "    FIPS = resp.json()['Block']['FIPS']\n",
    "    return(FIPS)\n",
    "\n",
    "\n",
    "def get_tract_from_fips(FIPS):\n",
    "    tract = FIPS[5:10]\n",
    "    return(tract)\n",
    "\n",
    "\n"
   ]
  },
  {
   "cell_type": "code",
   "execution_count": 34,
   "metadata": {
    "collapsed": false
   },
   "outputs": [
    {
     "name": "stdout",
     "output_type": "stream",
     "text": [
      "10000\n"
     ]
    },
    {
     "name": "stderr",
     "output_type": "stream",
     "text": [
      "C:\\Users\\mwatson\\AppData\\Local\\Continuum\\Anaconda3\\lib\\site-packages\\ipykernel\\__main__.py:33: SettingWithCopyWarning: \n",
      "A value is trying to be set on a copy of a slice from a DataFrame\n",
      "\n",
      "See the caveats in the documentation: http://pandas.pydata.org/pandas-docs/stable/indexing.html#indexing-view-versus-copy\n"
     ]
    }
   ],
   "source": [
    "df['lat_lon_to_tract'] = ''\n",
    "\n",
    "i = 0\n",
    "failed_index = []\n",
    "df_len = len(df)\n",
    "run_len = 1000\n",
    "mod_value = 2\n",
    "batch_len = int(run_len / .1)\n",
    "print(batch_len)\n",
    "\n",
    "master_fips_list = []\n",
    "\n",
    "\n",
    "for i in range(run_len):\n",
    "    fips_list = []\n",
    "    for j in range(batch_len):\n",
    "        url_list = []\n",
    "        lat = df['Latitude'][i]\n",
    "        lon = df['Longitude'][i]\n",
    "        url = url_builder(lat,lon)\n",
    "        url_list.append(url)\n",
    "\n",
    "\n",
    "    fips_list = get_batch_FIPS(url_list)\n",
    "    for item in fips_list: master_fips_list.append(item)\n",
    "\n",
    "\n",
    "\n",
    "\n",
    "    i+=batch_len\n",
    "\n",
    "for i in range(len(master_fips_list)):\n",
    "    df['lat_lon_to_tract'][i] = master_fips_list[i]\n",
    "\n",
    "\n",
    "\n",
    "\n",
    "df.to_csv('output.csv', sep=',')"
   ]
  },
  {
   "cell_type": "code",
   "execution_count": 39,
   "metadata": {
    "collapsed": false
   },
   "outputs": [],
   "source": [
    "ddf = pd.read_csv('output.csv',encoding=\"ISO-8859-1\")"
   ]
  },
  {
   "cell_type": "code",
   "execution_count": 40,
   "metadata": {
    "collapsed": false
   },
   "outputs": [
    {
     "data": {
      "text/plain": [
       "240317052003026.0"
      ]
     },
     "execution_count": 40,
     "metadata": {},
     "output_type": "execute_result"
    }
   ],
   "source": [
    "ddf['lat_lon_to_tract'][0]"
   ]
  },
  {
   "cell_type": "code",
   "execution_count": 20,
   "metadata": {
    "collapsed": false
   },
   "outputs": [],
   "source": [
    "fl =  get_batch_FIPS(url_list)"
   ]
  },
  {
   "cell_type": "code",
   "execution_count": 24,
   "metadata": {
    "collapsed": false
   },
   "outputs": [
    {
     "data": {
      "text/plain": [
       "'110010107001012'"
      ]
     },
     "execution_count": 24,
     "metadata": {},
     "output_type": "execute_result"
    }
   ],
   "source": [
    "fl[0]"
   ]
  },
  {
   "cell_type": "code",
   "execution_count": 37,
   "metadata": {
    "collapsed": false
   },
   "outputs": [
    {
     "data": {
      "text/plain": [
       "0    2.403171e+14\n",
       "1    5.106905e+14\n",
       "2    1.100101e+14\n",
       "3    1.100101e+14\n",
       "4    5.105949e+14\n",
       "Name: lat_lon_to_tract, dtype: float64"
      ]
     },
     "execution_count": 37,
     "metadata": {},
     "output_type": "execute_result"
    }
   ],
   "source": [
    "ddf['lat_lon_to_tract'].head()"
   ]
  },
  {
   "cell_type": "code",
   "execution_count": null,
   "metadata": {
    "collapsed": true
   },
   "outputs": [],
   "source": []
  }
 ],
 "metadata": {
  "kernelspec": {
   "display_name": "Python [default]",
   "language": "python",
   "name": "python3"
  },
  "language_info": {
   "codemirror_mode": {
    "name": "ipython",
    "version": 3
   },
   "file_extension": ".py",
   "mimetype": "text/x-python",
   "name": "python",
   "nbconvert_exporter": "python",
   "pygments_lexer": "ipython3",
   "version": "3.5.4"
  }
 },
 "nbformat": 4,
 "nbformat_minor": 2
}
